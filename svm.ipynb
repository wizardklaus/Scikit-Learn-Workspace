{
 "cells": [
  {
   "cell_type": "code",
   "execution_count": 3,
   "metadata": {
    "collapsed": true
   },
   "outputs": [],
   "source": [
    "#data analysis and wrangling\n",
    "import pandas as pd\n",
    "import numpy as np\n",
    "\n",
    "#machine learning\n",
    "from sklearn.svm import SVC\n",
    "from sklearn.svm import LinearSVC"
   ]
  },
  {
   "cell_type": "markdown",
   "metadata": {},
   "source": [
    "### 데이터 불러오기"
   ]
  },
  {
   "cell_type": "code",
   "execution_count": 4,
   "metadata": {},
   "outputs": [],
   "source": [
    "#다운로드 링크: \n",
    "train_df = pd.read_csv('train_preprocessed.csv')\n",
    "test_df = pd.read_csv('test_preprocessed.csv')\n",
    "combine = [train_df, test_df]"
   ]
  },
  {
   "cell_type": "code",
   "execution_count": null,
   "metadata": {
    "collapsed": true
   },
   "outputs": [],
   "source": [
    "train_df.info()\n",
    "print(\"\\n--------------------------------------\\n\")\n",
    "test_df.info()"
   ]
  },
  {
   "cell_type": "markdown",
   "metadata": {},
   "source": [
    "### Training / Validation set 분리"
   ]
  },
  {
   "cell_type": "code",
   "execution_count": 5,
   "metadata": {},
   "outputs": [
    {
     "data": {
      "text/plain": [
       "((712, 8), (712,), (179, 8), (179,))"
      ]
     },
     "execution_count": 5,
     "metadata": {},
     "output_type": "execute_result"
    }
   ],
   "source": [
    "from sklearn.model_selection import cross_val_score\n",
    "from sklearn.model_selection import train_test_split\n",
    "\n",
    "X=train_df.drop(\"Survived\",axis=1)\n",
    "Y=train_df[\"Survived\"]\n",
    "\n",
    "X_train,X_val,y_train,y_val=\\\n",
    "train_test_split(X,Y,test_size=0.20,random_state=5)\n",
    "X_train.shape,y_train.shape,X_val.shape,y_val.shape\n",
    "#보통 행렬을 표시할 때는 대문자, 벡터를 표시할 때는 소문자로 쓴다."
   ]
  },
  {
   "cell_type": "markdown",
   "metadata": {},
   "source": [
    " - Normalizaed data 생성"
   ]
  },
  {
   "cell_type": "code",
   "execution_count": 11,
   "metadata": {},
   "outputs": [
    {
     "data": {
      "text/plain": [
       "((712, 8), (712,), (179, 8), (179,))"
      ]
     },
     "execution_count": 11,
     "metadata": {},
     "output_type": "execute_result"
    }
   ],
   "source": [
    "X = train_df.drop(\"Survived\", axis=1)\n",
    "Y = train_df[\"Survived\"]\n",
    "\n",
    "X_norm = (X - X.mean()) / (X.max() - X.min())\n",
    "#표준화, 공식은 다양하다. Scaling\n",
    "\n",
    "X_train_n, X_val_n, y_train, y_val = \\\n",
    "train_test_split(X_norm, Y, test_size = 0.20, random_state=5)\n",
    "X_train.shape, y_train.shape, X_val.shape, y_val.shape"
   ]
  },
  {
   "cell_type": "markdown",
   "metadata": {},
   "source": [
    "### 파라미터 비교 / 확인\n",
    "- 파라미터 확인"
   ]
  },
  {
   "cell_type": "code",
   "execution_count": 12,
   "metadata": {},
   "outputs": [
    {
     "data": {
      "text/plain": [
       "{'C': 1.0,\n",
       " 'cache_size': 200,\n",
       " 'class_weight': None,\n",
       " 'coef0': 0.0,\n",
       " 'decision_function_shape': None,\n",
       " 'degree': 3,\n",
       " 'gamma': 'auto',\n",
       " 'kernel': 'rbf',\n",
       " 'max_iter': -1,\n",
       " 'probability': False,\n",
       " 'random_state': None,\n",
       " 'shrinking': True,\n",
       " 'tol': 0.001,\n",
       " 'verbose': False}"
      ]
     },
     "execution_count": 12,
     "metadata": {},
     "output_type": "execute_result"
    }
   ],
   "source": [
    "svc=SVC() #범주형인 경우 classifier 숫자형인 경우 regression\n",
    "svc.get_params()\n",
    "#C가 Slack변수, gamma는 어느거리의 점들까지 영향력을 줄 것인가 하는 것이다."
   ]
  },
  {
   "cell_type": "code",
   "execution_count": 13,
   "metadata": {},
   "outputs": [],
   "source": [
    "? SVC"
   ]
  },
  {
   "cell_type": "markdown",
   "metadata": {},
   "source": [
    "### Linear Kernel\n",
    "- kernel:linear"
   ]
  },
  {
   "cell_type": "code",
   "execution_count": 14,
   "metadata": {},
   "outputs": [
    {
     "name": "stdout",
     "output_type": "stream",
     "text": [
      "training_acc:  78.51    validation_acc:  79.33\n"
     ]
    }
   ],
   "source": [
    "svc=SVC(kernel='linear') #차원을 매핑해주는 존재, 2차원 / 3차원\n",
    "\n",
    "#원 데이터\n",
    "svc.fit(X_train,y_train)\n",
    "acc_traing=round(svc.score(X_train,y_train)*100,2)\n",
    "acc_validation=round(svc.score(X_val,y_val)*100,2)\n",
    "\n",
    "#표준화된 데이터 (SVN을 할 때는 표준화된 데이터, 정규화를 거친 뒤 하는 것이 좋다)\n",
    "svc.fit(X_train,y_train)\n",
    "acc_traing=round(svc.score(X_train_n,y_train)*100,2)\n",
    "acc_validation=round(svc.score(X_val_n,y_val)*100,2)\n",
    "\n",
    "#결과 확인\n",
    "print(\"training_acc: \",acc_traing,\"  \",\"validation_acc: \",acc_validation)"
   ]
  },
  {
   "cell_type": "markdown",
   "metadata": {},
   "source": [
    " - Cross-validation 을 이용한 평가"
   ]
  },
  {
   "cell_type": "code",
   "execution_count": 15,
   "metadata": {},
   "outputs": [
    {
     "name": "stdout",
     "output_type": "stream",
     "text": [
      "Accuracy: 0.79 (+/- 0.04)\n"
     ]
    }
   ],
   "source": [
    "svc=SVC(kernel=\"linear\")\n",
    "\n",
    "#원 데이터\n",
    "scores=cross_val_score(svc,X,Y,cv=5)\n",
    "\n",
    "#표준화된 데이터\n",
    "scores=cross_val_score(svc,X_norm,Y,cv=5)\n",
    "\n",
    "#결과 확인\n",
    "scores\n",
    "print(\"Accuracy: %0.2f (+/- %0.2f)\" % (scores.mean(), scores.std()*2))"
   ]
  },
  {
   "cell_type": "markdown",
   "metadata": {},
   "source": [
    " - kernel:linear, C=1"
   ]
  },
  {
   "cell_type": "code",
   "execution_count": 16,
   "metadata": {},
   "outputs": [
    {
     "name": "stdout",
     "output_type": "stream",
     "text": [
      "training_acc:  78.51    validation_acc:  79.33\n"
     ]
    }
   ],
   "source": [
    "svc=SVC(kernel='linear',C=1)\n",
    "\"\"\"\n",
    "C값을 높이게 되면 margin이 줄어들게 되므로 traing data와 validation data의 score값이\n",
    "차이가 많이 날 수 있다. 이러한 상태가 되면 과적합이 일어났다고 볼 수 있다.\n",
    "\n",
    "predict는 y값, 즉 예측한 값들을 출력해주는 함수이고, score는 예측한 결과와 y값에 대한 척도를 표시\n",
    "\"\"\"\n",
    "\n",
    "#원 데이터\n",
    "svc.fit(X_train,y_train)\n",
    "acc_traing=round(svc.score(X_train,y_train)*100,2)\n",
    "acc_validation=round(svc.score(X_val,y_val)*100,2)\n",
    "\n",
    "#표준화된 데이터 (SVN을 할 때는 표준화된 데이터, 정규화를 거친 뒤 하는 것이 좋다)\n",
    "svc.fit(X_train,y_train)\n",
    "acc_traing=round(svc.score(X_train_n,y_train)*100,2)\n",
    "acc_validation=round(svc.score(X_val_n,y_val)*100,2)\n",
    "\n",
    "#결과 확인\n",
    "print(\"training_acc: \",acc_traing,\"  \",\"validation_acc: \",acc_validation)"
   ]
  },
  {
   "cell_type": "markdown",
   "metadata": {},
   "source": [
    "### RBF kernel\n",
    "- kernel:rbf"
   ]
  },
  {
   "cell_type": "code",
   "execution_count": null,
   "metadata": {
    "collapsed": true
   },
   "outputs": [],
   "source": [
    "svc=SVC(kernel='rbf')\n",
    "\n",
    "#원 데이터\n",
    "svc.fit(X_train,y_train)\n",
    "acc_traing=round(svc.score(X_train,y_train)*100,2)\n",
    "acc_validation=round(svc.score(X_val,y_val)*100,2)\n",
    "\n",
    "#표준화된 데이터 (SVN을 할 때는 표준화된 데이터, 정규화를 거친 뒤 하는 것이 좋다)\n",
    "svc.fit(X_train,y_train)\n",
    "acc_traing=round(svc.score(X_train_n,y_train)*100,2)\n",
    "acc_validation=round(svc.score(X_val_n,y_val)*100,2)\n",
    "\n",
    "#결과 확인\n",
    "print(\"training_acc: \",acc_traing,\"  \",\"validation_acc: \",acc_validation)"
   ]
  },
  {
   "cell_type": "markdown",
   "metadata": {},
   "source": [
    " - kernel:rbf, C=1, gamma=10"
   ]
  },
  {
   "cell_type": "code",
   "execution_count": null,
   "metadata": {
    "collapsed": true
   },
   "outputs": [],
   "source": [
    "svc=SVC(kernel='rbf',C=1,gamma=10)\n",
    "\n",
    "#원 데이터\n",
    "svc.fit(X_train,y_train)\n",
    "acc_traing=round(svc.score(X_train,y_train)*100,2)\n",
    "acc_validation=round(svc.score(X_val,y_val)*100,2)\n",
    "\n",
    "#표준화된 데이터 (SVN을 할 때는 표준화된 데이터, 정규화를 거친 뒤 하는 것이 좋다)\n",
    "svc.fit(X_train,y_train)\n",
    "acc_traing=round(svc.score(X_train_n,y_train)*100,2)\n",
    "acc_validation=round(svc.score(X_val_n,y_val)*100,2)\n",
    "\n",
    "#결과 확인\n",
    "print(\"training_acc: \",acc_traing,\"  \",\"validation_acc: \",acc_validation)"
   ]
  },
  {
   "cell_type": "markdown",
   "metadata": {},
   "source": [
    " - kernel:poly"
   ]
  },
  {
   "cell_type": "code",
   "execution_count": 17,
   "metadata": {},
   "outputs": [
    {
     "ename": "KeyboardInterrupt",
     "evalue": "",
     "output_type": "error",
     "traceback": [
      "\u001b[1;31m---------------------------------------------------------------------------\u001b[0m",
      "\u001b[1;31mKeyboardInterrupt\u001b[0m                         Traceback (most recent call last)",
      "\u001b[1;32m<ipython-input-17-a10ceead22ff>\u001b[0m in \u001b[0;36m<module>\u001b[1;34m()\u001b[0m\n\u001b[0;32m      2\u001b[0m \u001b[1;33m\u001b[0m\u001b[0m\n\u001b[0;32m      3\u001b[0m \u001b[1;31m#원 데이터\u001b[0m\u001b[1;33m\u001b[0m\u001b[1;33m\u001b[0m\u001b[0m\n\u001b[1;32m----> 4\u001b[1;33m \u001b[0msvc\u001b[0m\u001b[1;33m.\u001b[0m\u001b[0mfit\u001b[0m\u001b[1;33m(\u001b[0m\u001b[0mX_train\u001b[0m\u001b[1;33m,\u001b[0m\u001b[0my_train\u001b[0m\u001b[1;33m)\u001b[0m\u001b[1;33m\u001b[0m\u001b[0m\n\u001b[0m\u001b[0;32m      5\u001b[0m \u001b[0macc_traing\u001b[0m\u001b[1;33m=\u001b[0m\u001b[0mround\u001b[0m\u001b[1;33m(\u001b[0m\u001b[0msvc\u001b[0m\u001b[1;33m.\u001b[0m\u001b[0mscore\u001b[0m\u001b[1;33m(\u001b[0m\u001b[0mX_train\u001b[0m\u001b[1;33m,\u001b[0m\u001b[0my_train\u001b[0m\u001b[1;33m)\u001b[0m\u001b[1;33m*\u001b[0m\u001b[1;36m100\u001b[0m\u001b[1;33m,\u001b[0m\u001b[1;36m2\u001b[0m\u001b[1;33m)\u001b[0m\u001b[1;33m\u001b[0m\u001b[0m\n\u001b[0;32m      6\u001b[0m \u001b[0macc_validation\u001b[0m\u001b[1;33m=\u001b[0m\u001b[0mround\u001b[0m\u001b[1;33m(\u001b[0m\u001b[0msvc\u001b[0m\u001b[1;33m.\u001b[0m\u001b[0mscore\u001b[0m\u001b[1;33m(\u001b[0m\u001b[0mX_val\u001b[0m\u001b[1;33m,\u001b[0m\u001b[0my_val\u001b[0m\u001b[1;33m)\u001b[0m\u001b[1;33m*\u001b[0m\u001b[1;36m100\u001b[0m\u001b[1;33m,\u001b[0m\u001b[1;36m2\u001b[0m\u001b[1;33m)\u001b[0m\u001b[1;33m\u001b[0m\u001b[0m\n",
      "\u001b[1;32mc:\\users\\jooyon\\appdata\\local\\programs\\python\\python36-32\\lib\\site-packages\\sklearn\\svm\\base.py\u001b[0m in \u001b[0;36mfit\u001b[1;34m(self, X, y, sample_weight)\u001b[0m\n\u001b[0;32m    187\u001b[0m \u001b[1;33m\u001b[0m\u001b[0m\n\u001b[0;32m    188\u001b[0m         \u001b[0mseed\u001b[0m \u001b[1;33m=\u001b[0m \u001b[0mrnd\u001b[0m\u001b[1;33m.\u001b[0m\u001b[0mrandint\u001b[0m\u001b[1;33m(\u001b[0m\u001b[0mnp\u001b[0m\u001b[1;33m.\u001b[0m\u001b[0miinfo\u001b[0m\u001b[1;33m(\u001b[0m\u001b[1;34m'i'\u001b[0m\u001b[1;33m)\u001b[0m\u001b[1;33m.\u001b[0m\u001b[0mmax\u001b[0m\u001b[1;33m)\u001b[0m\u001b[1;33m\u001b[0m\u001b[0m\n\u001b[1;32m--> 189\u001b[1;33m         \u001b[0mfit\u001b[0m\u001b[1;33m(\u001b[0m\u001b[0mX\u001b[0m\u001b[1;33m,\u001b[0m \u001b[0my\u001b[0m\u001b[1;33m,\u001b[0m \u001b[0msample_weight\u001b[0m\u001b[1;33m,\u001b[0m \u001b[0msolver_type\u001b[0m\u001b[1;33m,\u001b[0m \u001b[0mkernel\u001b[0m\u001b[1;33m,\u001b[0m \u001b[0mrandom_seed\u001b[0m\u001b[1;33m=\u001b[0m\u001b[0mseed\u001b[0m\u001b[1;33m)\u001b[0m\u001b[1;33m\u001b[0m\u001b[0m\n\u001b[0m\u001b[0;32m    190\u001b[0m         \u001b[1;31m# see comment on the other call to np.iinfo in this file\u001b[0m\u001b[1;33m\u001b[0m\u001b[1;33m\u001b[0m\u001b[0m\n\u001b[0;32m    191\u001b[0m \u001b[1;33m\u001b[0m\u001b[0m\n",
      "\u001b[1;32mc:\\users\\jooyon\\appdata\\local\\programs\\python\\python36-32\\lib\\site-packages\\sklearn\\svm\\base.py\u001b[0m in \u001b[0;36m_dense_fit\u001b[1;34m(self, X, y, sample_weight, solver_type, kernel, random_seed)\u001b[0m\n\u001b[0;32m    254\u001b[0m                 \u001b[0mcache_size\u001b[0m\u001b[1;33m=\u001b[0m\u001b[0mself\u001b[0m\u001b[1;33m.\u001b[0m\u001b[0mcache_size\u001b[0m\u001b[1;33m,\u001b[0m \u001b[0mcoef0\u001b[0m\u001b[1;33m=\u001b[0m\u001b[0mself\u001b[0m\u001b[1;33m.\u001b[0m\u001b[0mcoef0\u001b[0m\u001b[1;33m,\u001b[0m\u001b[1;33m\u001b[0m\u001b[0m\n\u001b[0;32m    255\u001b[0m                 \u001b[0mgamma\u001b[0m\u001b[1;33m=\u001b[0m\u001b[0mself\u001b[0m\u001b[1;33m.\u001b[0m\u001b[0m_gamma\u001b[0m\u001b[1;33m,\u001b[0m \u001b[0mepsilon\u001b[0m\u001b[1;33m=\u001b[0m\u001b[0mself\u001b[0m\u001b[1;33m.\u001b[0m\u001b[0mepsilon\u001b[0m\u001b[1;33m,\u001b[0m\u001b[1;33m\u001b[0m\u001b[0m\n\u001b[1;32m--> 256\u001b[1;33m                 max_iter=self.max_iter, random_seed=random_seed)\n\u001b[0m\u001b[0;32m    257\u001b[0m \u001b[1;33m\u001b[0m\u001b[0m\n\u001b[0;32m    258\u001b[0m         \u001b[0mself\u001b[0m\u001b[1;33m.\u001b[0m\u001b[0m_warn_from_fit_status\u001b[0m\u001b[1;33m(\u001b[0m\u001b[1;33m)\u001b[0m\u001b[1;33m\u001b[0m\u001b[0m\n",
      "\u001b[1;31mKeyboardInterrupt\u001b[0m: "
     ]
    }
   ],
   "source": [
    "svc=SVC(kernel='poly') #다항커널, 3차원, 4차원,,,\n",
    "\n",
    "#원 데이터\n",
    "svc.fit(X_train,y_train)\n",
    "acc_traing=round(svc.score(X_train,y_train)*100,2)\n",
    "acc_validation=round(svc.score(X_val,y_val)*100,2)\n",
    "\n",
    "#표준화된 데이터 (SVN을 할 때는 표준화된 데이터, 정규화를 거친 뒤 하는 것이 좋다)\n",
    "svc.fit(X_train,y_train)\n",
    "acc_traing=round(svc.score(X_train_n,y_train)*100,2)\n",
    "acc_validation=round(svc.score(X_val_n,y_val)*100,2)\n",
    "\n",
    "#결과 확인\n",
    "print(\"training_acc: \",acc_traing,\"  \",\"validation_acc: \",acc_validation)"
   ]
  },
  {
   "cell_type": "markdown",
   "metadata": {},
   "source": [
    " - kernel:poly,degree=4,gamma=1"
   ]
  },
  {
   "cell_type": "code",
   "execution_count": null,
   "metadata": {
    "collapsed": true
   },
   "outputs": [],
   "source": [
    "svc=SVC(kernel='poly',degree=4,gamma=1) #degree는 차원을 지정\n",
    "\n",
    "#원 데이터\n",
    "svc.fit(X_train,y_train)\n",
    "acc_traing=round(svc.score(X_train,y_train)*100,2)\n",
    "acc_validation=round(svc.score(X_val,y_val)*100,2)\n",
    "\n",
    "#표준화된 데이터 (SVN을 할 때는 표준화된 데이터, 정규화를 거친 뒤 하는 것이 좋다)\n",
    "svc.fit(X_train,y_train)\n",
    "acc_traing=round(svc.score(X_train_n,y_train)*100,2)\n",
    "acc_validation=round(svc.score(X_val_n,y_val)*100,2)\n",
    "\n",
    "#결과 확인\n",
    "print(\"training_acc: \",acc_traing,\"  \",\"validation_acc: \",acc_validation)"
   ]
  },
  {
   "cell_type": "markdown",
   "metadata": {},
   "source": [
    "### LinearSVC"
   ]
  },
  {
   "cell_type": "code",
   "execution_count": null,
   "metadata": {
    "collapsed": true
   },
   "outputs": [],
   "source": [
    "svc=LinearSVC()\n",
    "\n",
    "#원 데이터\n",
    "svc.fit(X_train,y_train)\n",
    "acc_traing=round(svc.score(X_train,y_train)*100,2)\n",
    "acc_validation=round(svc.score(X_val,y_val)*100,2)\n",
    "\n",
    "#표준화된 데이터 (SVN을 할 때는 표준화된 데이터, 정규화를 거친 뒤 하는 것이 좋다)\n",
    "svc.fit(X_train,y_train)\n",
    "acc_traing=round(svc.score(X_train_n,y_train)*100,2)\n",
    "acc_validation=round(svc.score(X_val_n,y_val)*100,2)\n",
    "\n",
    "#결과 확인\n",
    "print(\"training_acc: \",acc_traing,\"  \",\"validation_acc: \",acc_validation)"
   ]
  },
  {
   "cell_type": "markdown",
   "metadata": {},
   "source": [
    "### 파라미터 최적화\n",
    "\n",
    " - Exhaustive Grid Search"
   ]
  },
  {
   "cell_type": "code",
   "execution_count": null,
   "metadata": {
    "collapsed": true
   },
   "outputs": [],
   "source": [
    "svc = SVC()\n",
    "svc.get_params()"
   ]
  },
  {
   "cell_type": "code",
   "execution_count": 18,
   "metadata": {},
   "outputs": [
    {
     "data": {
      "text/plain": [
       "GridSearchCV(cv=5, error_score='raise',\n",
       "       estimator=SVC(C=1.0, cache_size=200, class_weight=None, coef0=0.0,\n",
       "  decision_function_shape=None, degree=3, gamma='auto', kernel='rbf',\n",
       "  max_iter=-1, probability=False, random_state=None, shrinking=True,\n",
       "  tol=0.001, verbose=False),\n",
       "       fit_params={}, iid=True, n_jobs=1,\n",
       "       param_grid=[{'C': [0.01, 0.1, 1, 10, 100, 1000, 10000], 'gamma': [10, 1, 0.1, 0.0, 0.001, 0.0001, 1e-05], 'kernel': ['rbf']}],\n",
       "       pre_dispatch='2*n_jobs', refit=True, return_train_score=True,\n",
       "       scoring=None, verbose=0)"
      ]
     },
     "execution_count": 18,
     "metadata": {},
     "output_type": "execute_result"
    }
   ],
   "source": [
    "from sklearn.model_selection import GridSearchCV\n",
    "#RandomizedSearchCV 확률분포를 정의를 해서 그에 따른 파라미터들을 추출할 수 있다.\n",
    "\n",
    "#고정할 파라미터 지정\n",
    "#class_weight은 default값(1) 사용\n",
    "#presort:False\n",
    "#splitter:best\n",
    "svc=SVC()\n",
    "parameters=[\n",
    "#     {'C'=[1,10,100,1000],'kernel':['linear']}\n",
    "    {'C':[0.01,0.1,1,10,100,1000,10000],\n",
    "    'gamma':[10,1,0.1,0.0,0.001,0.0001,0.00001],'kernel':['rbf']}\n",
    "]\n",
    "\n",
    "parameters\n",
    "\n",
    "\"\"\"\n",
    "estimator은 평가하는 함수(SVC)를 가리키고 parm_grid는 딕셔너리의 리스트들을 세팅하게 되는데,\n",
    "grid들은 각 딕셔너리 들의 리스트들은 확장되며 살펴진다.(explored) 모든 조합(sequence)들의\n",
    "파라미터 세팅을 찾아볼 수 있다. cv는 Cross Validation에 사용된다. default:3,\n",
    "train과 test 데이터를 잘라낸다.\n",
    "\"\"\"\n",
    "clf=GridSearchCV(estimator=svc,param_grid=parameters,cv=5)\n",
    "clf.fit(X_norm,Y)"
   ]
  },
  {
   "cell_type": "code",
   "execution_count": null,
   "metadata": {
    "collapsed": true
   },
   "outputs": [],
   "source": [
    "## 파라미터 확인\n",
    "print(clf.best_params_)"
   ]
  },
  {
   "cell_type": "code",
   "execution_count": null,
   "metadata": {
    "collapsed": true
   },
   "outputs": [],
   "source": [
    "means = clf.cv_results_['mean_test_score']\n",
    "stds = clf.cv_results_['std_test_score']\n",
    "for mean, std, params in zip(means, stds, clf.cv_results_['params']):\n",
    "    print(\"%0.3f (+/-%0.03f) for %r\"% (mean, std * 2, params))"
   ]
  }
 ],
 "metadata": {
  "kernelspec": {
   "display_name": "Python 3",
   "language": "python",
   "name": "python3"
  },
  "language_info": {
   "codemirror_mode": {
    "name": "ipython",
    "version": 3
   },
   "file_extension": ".py",
   "mimetype": "text/x-python",
   "name": "python",
   "nbconvert_exporter": "python",
   "pygments_lexer": "ipython3",
   "version": "3.6.2"
  }
 },
 "nbformat": 4,
 "nbformat_minor": 2
}
