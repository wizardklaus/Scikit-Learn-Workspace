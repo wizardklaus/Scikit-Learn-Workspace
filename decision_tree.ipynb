{
 "cells": [
  {
   "cell_type": "code",
   "execution_count": 2,
   "metadata": {
    "collapsed": true
   },
   "outputs": [],
   "source": [
    "# data analysis and wrangling\n",
    "import pandas as pd\n",
    "import numpy as np\n",
    "import random as rnd"
   ]
  },
  {
   "cell_type": "code",
   "execution_count": 3,
   "metadata": {
    "collapsed": true
   },
   "outputs": [],
   "source": [
    "# machine learning\n",
    "from sklearn.tree import DecisionTreeClassifier\n",
    "from sklearn.preprocessing import OneHotEncoder"
   ]
  },
  {
   "cell_type": "code",
   "execution_count": 5,
   "metadata": {
    "collapsed": true
   },
   "outputs": [],
   "source": [
    "#다운로드 링크: \n",
    "train_df = pd.read_csv('train_preprocessed.csv')\n",
    "test_df = pd.read_csv('test_preprocessed.csv')\n",
    "combine = [train_df, test_df]"
   ]
  },
  {
   "cell_type": "code",
   "execution_count": 6,
   "metadata": {},
   "outputs": [
    {
     "name": "stdout",
     "output_type": "stream",
     "text": [
      "<class 'pandas.core.frame.DataFrame'>\n",
      "RangeIndex: 891 entries, 0 to 890\n",
      "Data columns (total 9 columns):\n",
      "Survived     891 non-null int64\n",
      "Pclass       891 non-null int64\n",
      "Sex          891 non-null int64\n",
      "Age          891 non-null int64\n",
      "Fare         891 non-null float64\n",
      "Embarked     891 non-null int64\n",
      "Title        891 non-null int64\n",
      "IsAlone      891 non-null int64\n",
      "Age*Class    891 non-null int64\n",
      "dtypes: float64(1), int64(8)\n",
      "memory usage: 62.7 KB\n",
      "\n",
      "===============================================\n",
      "\n",
      "<class 'pandas.core.frame.DataFrame'>\n",
      "RangeIndex: 418 entries, 0 to 417\n",
      "Data columns (total 9 columns):\n",
      "PassengerId    418 non-null int64\n",
      "Pclass         418 non-null int64\n",
      "Sex            418 non-null int64\n",
      "Age            418 non-null int64\n",
      "Fare           418 non-null float64\n",
      "Embarked       418 non-null int64\n",
      "Title          418 non-null int64\n",
      "IsAlone        418 non-null int64\n",
      "Age*Class      418 non-null int64\n",
      "dtypes: float64(1), int64(8)\n",
      "memory usage: 29.4 KB\n"
     ]
    }
   ],
   "source": [
    "train_df.info()\n",
    "print(\"\\n===============================================\\n\")\n",
    "test_df.info()"
   ]
  },
  {
   "cell_type": "markdown",
   "metadata": {},
   "source": [
    "### Training / Validation set 분리"
   ]
  },
  {
   "cell_type": "code",
   "execution_count": 7,
   "metadata": {},
   "outputs": [
    {
     "data": {
      "text/plain": [
       "((712, 8), (712,), (179, 8), (179,))"
      ]
     },
     "execution_count": 7,
     "metadata": {},
     "output_type": "execute_result"
    }
   ],
   "source": [
    "from sklearn.model_selection import train_test_split\n",
    "\n",
    "X = train_df.drop(\"Survived\", axis=1)\n",
    "Y = train_df[\"Survived\"]\n",
    "X_test  = test_df.drop(\"PassengerId\", axis=1).copy()\n",
    "#test데이터는 validation data로, 타당성을 검증해준다.(훈련데이터셋과는 다름)\n",
    "#train data와 test data는 분포가 같다는 가정이나 train으로 모델을 만들고 test로 평가를 한다.\n",
    "\n",
    "X_train, X_val, y_train, y_val = \\\n",
    "train_test_split(X, Y, test_size = 0.20, random_state=5)\n",
    "X_train.shape, y_train.shape, X_val.shape, y_val.shape"
   ]
  },
  {
   "cell_type": "markdown",
   "metadata": {},
   "source": [
    "### 파라미터 비교 / 확인\n",
    "#### class_weight\n",
    "- 기본 파라미터 확인"
   ]
  },
  {
   "cell_type": "code",
   "execution_count": 32,
   "metadata": {},
   "outputs": [
    {
     "data": {
      "text/plain": [
       "{'class_weight': None,\n",
       " 'criterion': 'gini',\n",
       " 'max_depth': None,\n",
       " 'max_features': None,\n",
       " 'max_leaf_nodes': None,\n",
       " 'min_impurity_split': 1e-07,\n",
       " 'min_samples_leaf': 1,\n",
       " 'min_samples_split': 2,\n",
       " 'min_weight_fraction_leaf': 0.0,\n",
       " 'presort': False,\n",
       " 'random_state': None,\n",
       " 'splitter': 'best'}"
      ]
     },
     "execution_count": 32,
     "metadata": {},
     "output_type": "execute_result"
    }
   ],
   "source": [
    "# training과 validation을 8:2로 나눈 뒤 train으로 모델을 만들고 validation으로 예측\n",
    "'''\n",
    "training : 모델을 만들기 위한 데이터\n",
    "validation : 예측을 위한 데이터\n",
    "\n",
    "- 둘의 분포는 같다는 가정. ( 같은 모집단에서 생성된 데이터라는 가정)\n",
    "'''\n",
    "decision_tree = DecisionTreeClassifier()\n",
    "decision_tree.get_params() #모양을 결정하는 파라미터들"
   ]
  },
  {
   "cell_type": "markdown",
   "metadata": {},
   "source": [
    " - class_weight = 0:1, 1:1"
   ]
  },
  {
   "cell_type": "code",
   "execution_count": 9,
   "metadata": {},
   "outputs": [
    {
     "name": "stdout",
     "output_type": "stream",
     "text": [
      "training_acc:  94.1    validation_acc:  83.8\n"
     ]
    }
   ],
   "source": [
    "decision_tree=DecisionTreeClassifier(class_weight={0:1,1:1})\n",
    "decision_tree.fit(X_train,y_train)\n",
    "#Y_pred=decision_tree.predict(X_test) 안써줘도 됨\n",
    "acc_traing=round(decision_tree.score(X_train,y_train)*100,2)\n",
    "acc_validation=round(decision_tree.score(X_val,y_val)*100,2)\n",
    "print(\"training_acc: \",acc_traing,\"  \",\"validation_acc: \",acc_validation)"
   ]
  },
  {
   "cell_type": "markdown",
   "metadata": {},
   "source": [
    " - class_weight = 0:1, 1:10"
   ]
  },
  {
   "cell_type": "code",
   "execution_count": 14,
   "metadata": {},
   "outputs": [
    {
     "name": "stdout",
     "output_type": "stream",
     "text": [
      "training_acc:  83.99    validation_acc:  68.72\n"
     ]
    }
   ],
   "source": [
    "\"\"\"\n",
    "class_weight는 모델의 성능을 나타내진 못하지만 모델의 특성을 나타내준다.\n",
    "y값(target변수)이 0(죽었다)과 1(산다)이 있을 때, 산다고 예측하는 것이 더 중요한 경우,\n",
    "산다고 예측하는 것에 대해서 비중을 높게 줄 수 있다. 키값을 주어, 0죽는다에는 1\n",
    "1산다에는 10의 비중을 두어 중요성을 줄 수 있다.\n",
    "\"\"\"\n",
    "decision_tree=DecisionTreeClassifier(class_weight={0:1,1:10})\n",
    "#앞의 것보다 성능은 떨어져도 살아남은 사람을 살아남았다고 예측한 확률은 높다.\n",
    "decision_tree.fit(X_train,y_train)\n",
    "#Y_pred=decision_tree.predict(X_test) 안써줘도 됨\n",
    "acc_traing=round(decision_tree.score(X_train,y_train)*100,2)\n",
    "acc_validation=round(decision_tree.score(X_val,y_val)*100,2)\n",
    "print(\"training_acc: \",acc_traing,\"  \",\"validation_acc: \",acc_validation)"
   ]
  },
  {
   "cell_type": "markdown",
   "metadata": {},
   "source": [
    " - class_weight = 0:10, 1:1"
   ]
  },
  {
   "cell_type": "code",
   "execution_count": 13,
   "metadata": {},
   "outputs": [
    {
     "name": "stdout",
     "output_type": "stream",
     "text": [
      "training_acc:  91.99    validation_acc:  82.12\n"
     ]
    }
   ],
   "source": [
    "decision_tree=DecisionTreeClassifier(class_weight={0:10,1:1})\n",
    "#앞의 것보다 성능은 떨어져도 살아남은 사람을 살아남았다고 예측한 확률은 높다.\n",
    "decision_tree.fit(X_train,y_train)\n",
    "#Y_pred=decision_tree.predict(X_test) 안써줘도 됨\n",
    "acc_traing=round(decision_tree.score(X_train,y_train)*100,2)\n",
    "acc_validation=round(decision_tree.score(X_val,y_val)*100,2)\n",
    "print(\"training_acc: \",acc_traing,\"  \",\"validation_acc: \",acc_validation)"
   ]
  },
  {
   "cell_type": "markdown",
   "metadata": {},
   "source": [
    " - gini impurity"
   ]
  },
  {
   "cell_type": "code",
   "execution_count": 11,
   "metadata": {},
   "outputs": [
    {
     "name": "stdout",
     "output_type": "stream",
     "text": [
      "training_acc:  94.1    validation_acc:  83.8\n"
     ]
    }
   ],
   "source": [
    "#성능을 높게 하는데 쓰임\n",
    "decision_tree=DecisionTreeClassifier(criterion=\"gini\")\n",
    "decision_tree.fit(X_train,y_train)\n",
    "#Y_pred=decision_tree.predict(X_test) 안써줘도 됨\n",
    "acc_traing=round(decision_tree.score(X_train,y_train)*100,2)\n",
    "acc_validation=round(decision_tree.score(X_val,y_val)*100,2)\n",
    "print(\"training_acc: \",acc_traing,\"  \",\"validation_acc: \",acc_validation)"
   ]
  },
  {
   "cell_type": "markdown",
   "metadata": {},
   "source": [
    " - entropy"
   ]
  },
  {
   "cell_type": "code",
   "execution_count": 12,
   "metadata": {},
   "outputs": [
    {
     "name": "stdout",
     "output_type": "stream",
     "text": [
      "training_acc:  94.1    validation_acc:  84.36\n"
     ]
    }
   ],
   "source": [
    "#변수의 설명력을 높여줌\n",
    "decision_tree=DecisionTreeClassifier(criterion=\"entropy\")\n",
    "decision_tree.fit(X_train,y_train)\n",
    "#Y_pred=decision_tree.predict(X_test) 안써줘도 됨\n",
    "acc_traing=round(decision_tree.score(X_train,y_train)*100,2)\n",
    "acc_validation=round(decision_tree.score(X_val,y_val)*100,2)\n",
    "print(\"training_acc: \",acc_traing,\"  \",\"validation_acc: \",acc_validation)"
   ]
  },
  {
   "cell_type": "markdown",
   "metadata": {
    "collapsed": true
   },
   "source": [
    "### 가지치기(Pruning) 관련 파라미터 비교\n",
    " - 기본 파라미터 확인"
   ]
  },
  {
   "cell_type": "code",
   "execution_count": null,
   "metadata": {
    "collapsed": true
   },
   "outputs": [],
   "source": [
    "decision_tree = DecisionTreeClassifier()\n",
    "decision_tree.get_params()"
   ]
  },
  {
   "cell_type": "markdown",
   "metadata": {},
   "source": [
    " - 가지치기 없음 "
   ]
  },
  {
   "cell_type": "code",
   "execution_count": null,
   "metadata": {
    "collapsed": true
   },
   "outputs": [],
   "source": [
    "decision_tree=DecisionTreeClassifier()\n",
    "decision_tree.fit(X_train,y_train)\n",
    "#Y_pred=decision_tree.predict(X_test) 안써줘도 됨\n",
    "acc_traing=round(decision_tree.score(X_train,y_train)*100,2)\n",
    "acc_validation=round(decision_tree.score(X_val,y_val)*100,2)\n",
    "print(\"training_acc: \",acc_traing,\"  \",\"validation_acc: \",acc_validation)"
   ]
  },
  {
   "cell_type": "markdown",
   "metadata": {},
   "source": [
    " - 가지치기(max_depth 사용)"
   ]
  },
  {
   "cell_type": "code",
   "execution_count": 19,
   "metadata": {},
   "outputs": [
    {
     "name": "stdout",
     "output_type": "stream",
     "text": [
      "training_acc:  94.1    validation_acc:  84.36\n"
     ]
    }
   ],
   "source": [
    "decision_tree=DecisionTreeClassifier(max_depth=19)\n",
    "#max_depth를 높일수록 성능이 좋아짐, depth가 매우 높았을 때 특징은 train과 test의 차이가 커진다는 것이다.\n",
    "decision_tree.fit(X_train,y_train)\n",
    "#Y_pred=decision_tree.predict(X_test) 안써줘도 됨\n",
    "acc_traing=round(decision_tree.score(X_train,y_train)*100,2)\n",
    "acc_validation=round(decision_tree.score(X_val,y_val)*100,2)\n",
    "print(\"training_acc: \",acc_traing,\"  \",\"validation_acc: \",acc_validation)"
   ]
  },
  {
   "cell_type": "markdown",
   "metadata": {},
   "source": [
    " - 가지치기(max_leaf_nodes 사용)"
   ]
  },
  {
   "cell_type": "code",
   "execution_count": 22,
   "metadata": {},
   "outputs": [
    {
     "name": "stdout",
     "output_type": "stream",
     "text": [
      "training_acc:  88.48    validation_acc:  86.03\n"
     ]
    }
   ],
   "source": [
    "decision_tree=DecisionTreeClassifier(max_leaf_nodes=30)\n",
    "decision_tree.fit(X_train,y_train)\n",
    "#Y_pred=decision_tree.predict(X_test) 안써줘도 됨\n",
    "acc_traing=round(decision_tree.score(X_train,y_train)*100,2)\n",
    "acc_validation=round(decision_tree.score(X_val,y_val)*100,2)\n",
    "print(\"training_acc: \",acc_traing,\"  \",\"validation_acc: \",acc_validation)"
   ]
  },
  {
   "cell_type": "markdown",
   "metadata": {},
   "source": [
    " - 가지치기(min_samples_split 사용)"
   ]
  },
  {
   "cell_type": "code",
   "execution_count": 24,
   "metadata": {},
   "outputs": [
    {
     "name": "stdout",
     "output_type": "stream",
     "text": [
      "training_acc:  88.06    validation_acc:  86.03\n"
     ]
    }
   ],
   "source": [
    "decision_tree=DecisionTreeClassifier(min_samples_split=30)\n",
    "decision_tree.fit(X_train,y_train)\n",
    "#Y_pred=decision_tree.predict(X_test) 안써줘도 됨\n",
    "acc_traing=round(decision_tree.score(X_train,y_train)*100,2)\n",
    "acc_validation=round(decision_tree.score(X_val,y_val)*100,2)\n",
    "print(\"training_acc: \",acc_traing,\"  \",\"validation_acc: \",acc_validation)"
   ]
  },
  {
   "cell_type": "markdown",
   "metadata": {},
   "source": [
    " - 가지치기(min_impurity_decrease 사용)"
   ]
  },
  {
   "cell_type": "code",
   "execution_count": 33,
   "metadata": {},
   "outputs": [
    {
     "name": "stdout",
     "output_type": "stream",
     "text": [
      "training_acc:  94.1    validation_acc:  83.24\n"
     ]
    }
   ],
   "source": [
    "decision_tree=DecisionTreeClassifier(min_impurity_split=0.01)\n",
    "decision_tree.fit(X_train,y_train)\n",
    "#Y_pred=decision_tree.predict(X_test) 안써줘도 됨\n",
    "acc_traing=round(decision_tree.score(X_train,y_train)*100,2)\n",
    "acc_validation=round(decision_tree.score(X_val,y_val)*100,2)\n",
    "print(\"training_acc: \",acc_traing,\"  \",\"validation_acc: \",acc_validation)"
   ]
  },
  {
   "cell_type": "markdown",
   "metadata": {},
   "source": [
    " - 가지치기(min_impurity_split 사용)"
   ]
  },
  {
   "cell_type": "code",
   "execution_count": null,
   "metadata": {
    "collapsed": true
   },
   "outputs": [],
   "source": [
    "decision_tree = DecisionTreeClassifier(min_impurity_split=0.01)\n",
    "decision_tree.fit(X_train, y_train)\n",
    "Y_pred = decision_tree.predict(X_test)\n",
    "acc_traing = round(decision_tree.score(X_train, y_train) * 100, 2)\n",
    "acc_validation = round(decision_tree.score(X_val, y_val) * 100, 2)\n",
    "print(\"training_acc:\", acc_traing, \"   \", \"validation_acc: \", acc_validation)"
   ]
  },
  {
   "cell_type": "markdown",
   "metadata": {},
   "source": [
    "### 파라미터 최적화\n",
    "#### Exhaustive Grid Search\n",
    " - 기본 파라미터 확인 "
   ]
  },
  {
   "cell_type": "code",
   "execution_count": null,
   "metadata": {
    "collapsed": true
   },
   "outputs": [],
   "source": [
    "decision_tree = DecisionTreeClassifier()\n",
    "decision_tree.get_params()"
   ]
  },
  {
   "cell_type": "code",
   "execution_count": 37,
   "metadata": {
    "scrolled": true
   },
   "outputs": [
    {
     "data": {
      "text/plain": [
       "GridSearchCV(cv=None, error_score='raise',\n",
       "       estimator=DecisionTreeClassifier(class_weight=None, criterion='gini', max_depth=None,\n",
       "            max_features=None, max_leaf_nodes=None,\n",
       "            min_impurity_split=1e-07, min_samples_leaf=1,\n",
       "            min_samples_split=2, min_weight_fraction_leaf=0.0,\n",
       "            presort=False, random_state=None, splitter='best'),\n",
       "       fit_params={}, iid=True, n_jobs=1,\n",
       "       param_grid={'criterion': ['gini'], 'max_depth': array([2, 3, 4, 5, 6, 7, 8, 9]), 'min_impurity_split': array([ 0.   ,  0.005,  0.01 ,  0.015,  0.   ]), 'min_samples_leaf': array([4, 5, 6, 1]), 'min_samples_split': array([18, 19, 20, 21,  2]), 'min_weight_fraction_leaf': array([ 0.  ,  0.05,  0.1 ,  0.15,  0.2 ,  0.25,  0.3 ,  0.35,  0.4 ,  0.45])},\n",
       "       pre_dispatch='2*n_jobs', refit=True, return_train_score=True,\n",
       "       scoring=None, verbose=0)"
      ]
     },
     "execution_count": 37,
     "metadata": {},
     "output_type": "execute_result"
    }
   ],
   "source": [
    "\"\"\"\n",
    "Exhaustive Gird Search는 완결탐색으로 검사항목과 기억세트의 모든 항목과의 비교가 끝날 때까지 계속되는\n",
    "탐색이다. Grid(격자무늬)\n",
    "\"\"\"\n",
    "from sklearn.model_selection import GridSearchCV\n",
    "\n",
    "#고정할 파라미터 지정\n",
    "#class_weight는 default 값(1) 사용\n",
    "#presort: False\n",
    "#splitter: best\n",
    "decision_tree=DecisionTreeClassifier()\n",
    "parameters={\n",
    "    'criterion':['gini'],\n",
    "    'max_depth':np.arange(2,10),\n",
    "#     'max_leaf_nodes':np.arange(30,40),\n",
    "#     'min_impurity_decrease': np.append(np.arange(0,0.05,0.005),0.0)\n",
    "    'min_impurity_split': np.append(np.arange(0,0.02,0.005),0.0),\n",
    "    'min_samples_leaf': np.append(np.arange(4,7),1),\n",
    "    'min_samples_split': np.append(np.arange(18,22),2),\n",
    "#     'presort': True,\n",
    "    'min_weight_fraction_leaf': np.arange(0,0.5,0.05)}\n",
    "\n",
    "parameters\n",
    "\n",
    "clf=GridSearchCV(estimator=decision_tree,param_grid=parameters)\n",
    "#decision_tree 모델의 최적의 파라미터를 찾아준다. \n",
    "clf.fit(X_train,y_train)"
   ]
  },
  {
   "cell_type": "code",
   "execution_count": null,
   "metadata": {
    "collapsed": true
   },
   "outputs": [],
   "source": [
    "## 파라미터 확인\n",
    "clf.best_params_"
   ]
  },
  {
   "cell_type": "code",
   "execution_count": null,
   "metadata": {
    "collapsed": true
   },
   "outputs": [],
   "source": [
    "#성능확인\n",
    "acc_traing=round(decision_tree.score(X_train,y_train)*100,2)\n",
    "acc_validation=round(decision_tree.score(X_val,y_val)*100,2)\n",
    "print(\"training_acc: \",acc_traing,\"  \",\"validation_acc: \",acc_validation)"
   ]
  }
 ],
 "metadata": {
  "kernelspec": {
   "display_name": "Python 3",
   "language": "python",
   "name": "python3"
  },
  "language_info": {
   "codemirror_mode": {
    "name": "ipython",
    "version": 3
   },
   "file_extension": ".py",
   "mimetype": "text/x-python",
   "name": "python",
   "nbconvert_exporter": "python",
   "pygments_lexer": "ipython3",
   "version": "3.6.2"
  }
 },
 "nbformat": 4,
 "nbformat_minor": 2
}
